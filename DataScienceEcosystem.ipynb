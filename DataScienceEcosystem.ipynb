{
 "cells": [
  {
   "cell_type": "markdown",
   "id": "c1dc6ec0-af24-402f-90fd-583bcbe69cdf",
   "metadata": {},
   "source": [
    "# Data Science Tools and Ecosystem"
   ]
  },
  {
   "cell_type": "markdown",
   "id": "a6ce981e-ea32-47ca-ad2a-c6c1fa64f6d1",
   "metadata": {},
   "source": [
    "In this notebook, Data Science Tools and Ecosystem are summarized."
   ]
  },
  {
   "cell_type": "markdown",
   "id": "42950a04-9555-4dae-bc02-aecb4869a94a",
   "metadata": {},
   "source": [
    "Objectives:\n",
    "\n",
    " - Popular languages for Data Science\n",
    " - Popular libraries for Datascience\n",
    " - Popular tools for Datascience\n",
    " - Arithmetic Expressions in Python"
   ]
  },
  {
   "cell_type": "markdown",
   "id": "e1a86a44-88b0-4fa8-aafa-9b1b09278358",
   "metadata": {},
   "source": [
    "Some of the popular languages that Data Scientists use are:\n",
    "1. Python\n",
    "2. R\n",
    "3. SQL\n",
    "4. Scala"
   ]
  },
  {
   "cell_type": "markdown",
   "id": "9f0dc722-6837-4739-9266-d60e0cc6373f",
   "metadata": {},
   "source": [
    "Some of the commonly used libraries used by Data Scientists include:\n",
    " - Tensorflow\n",
    " - Numpy\n",
    " - Pandas\n",
    " "
   ]
  },
  {
   "cell_type": "markdown",
   "id": "d36f2c51-3b09-485b-94a1-db5b1e15c22e",
   "metadata": {
    "tags": []
   },
   "source": [
    "|Data Science Tools|\n",
    "---------\n",
    "| MySQL |\n",
    "| PosgreSQL |\n",
    "| MongoDB |\n",
    "| Hadoop |\n",
    "    "
   ]
  },
  {
   "cell_type": "markdown",
   "id": "98a078ba-cdb1-4c74-a862-bce1120e75d4",
   "metadata": {},
   "source": [
    "### Below are a few examples of evaluating arithmetic expressions in Python"
   ]
  },
  {
   "cell_type": "code",
   "execution_count": 6,
   "id": "200494b1-12a0-4725-b451-6ec014b8383b",
   "metadata": {
    "tags": []
   },
   "outputs": [
    {
     "data": {
      "text/plain": [
       "17"
      ]
     },
     "execution_count": 6,
     "metadata": {},
     "output_type": "execute_result"
    }
   ],
   "source": [
    "# This a simple arithmetic expression to mutiply then add integers \n",
    "(3*4)+5"
   ]
  },
  {
   "cell_type": "code",
   "execution_count": 7,
   "id": "86d9ecd7-a1ca-4248-8442-b4110884b908",
   "metadata": {
    "tags": []
   },
   "outputs": [
    {
     "data": {
      "text/plain": [
       "3.3333333333333335"
      ]
     },
     "execution_count": 7,
     "metadata": {},
     "output_type": "execute_result"
    }
   ],
   "source": [
    "# This will convert 200 minutes to hours by diving by 60\n",
    "200/60"
   ]
  },
  {
   "cell_type": "markdown",
   "id": "4c950654-f520-467d-a919-09be31044a0d",
   "metadata": {},
   "source": [
    "## Author\n",
    "Vivek Irusan"
   ]
  },
  {
   "cell_type": "code",
   "execution_count": null,
   "id": "fe614877-62a8-4427-8b17-1de330588759",
   "metadata": {},
   "outputs": [],
   "source": []
  }
 ],
 "metadata": {
  "kernelspec": {
   "display_name": "Python",
   "language": "python",
   "name": "conda-env-python-py"
  },
  "language_info": {
   "codemirror_mode": {
    "name": "ipython",
    "version": 3
   },
   "file_extension": ".py",
   "mimetype": "text/x-python",
   "name": "python",
   "nbconvert_exporter": "python",
   "pygments_lexer": "ipython3",
   "version": "3.7.12"
  }
 },
 "nbformat": 4,
 "nbformat_minor": 5
}
